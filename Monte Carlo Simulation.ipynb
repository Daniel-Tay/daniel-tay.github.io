{
 "cells": [
  {
   "cell_type": "markdown",
   "metadata": {},
   "source": [
    "# US Army Corps of Engineers - Using Monte Carlo Simulations to guide decision making\n",
    "\n",
    "This project was done as part of the course DATA 201 - Data Driven Decision Making (taught by Professor Dan Runfola) in Spring 2018. For this project, we were provided with data on dams across the United States (data source: US Army Corps of Engineers).\n",
    "\n",
    "The code used here was adapted from the template code provided by Professor Runfola."
   ]
  },
  {
   "cell_type": "markdown",
   "metadata": {},
   "source": [
    "# A brief note\n",
    "While there are several statistical problems associated with the model used (such as: the use of an ordinary least squares regression model, instead of a logistic regression model, to predict a binary variable; not checking for the presence of multicollinearity), they have been ignored for the purposes of illustrating how to conduct a Monta Carlo Simulation to guide decision making. In other words, I'm assuming that an ordinary least square regression is appropriate for predicting binary variables."
   ]
  },
  {
   "cell_type": "markdown",
   "metadata": {},
   "source": [
    "# Setting up the workspace"
   ]
  },
  {
   "cell_type": "code",
   "execution_count": 1,
   "metadata": {
    "collapsed": true
   },
   "outputs": [],
   "source": [
    "import warnings\n",
    "warnings.filterwarnings('ignore')\n",
    "import random\n",
    "import math\n",
    "import seaborn\n",
    "import matplotlib\n",
    "import matplotlib.pyplot as plt\n",
    "import pandas as pd\n",
    "import numpy\n",
    "import scipy\n",
    "import re\n",
    "import string\n",
    "import statsmodels.formula.api\n",
    "import pylab\n",
    "from operator import add\n",
    "import collections\n",
    "%matplotlib inline\n",
    "pd.set_option('display.max_columns', 50)"
   ]
  },
  {
   "cell_type": "markdown",
   "metadata": {},
   "source": [
    "# Assigned Task\n",
    "\n",
    "Our task was to determine which of the dams were most likely to fail in the future to (hypothetically) assist the US Army Corps of Engineers in determining how to best allocate their resources.\n",
    "\n",
    "Let's take a look at the data."
   ]
  },
  {
   "cell_type": "markdown",
   "metadata": {},
   "source": [
    "# Data"
   ]
  },
  {
   "cell_type": "code",
   "execution_count": 2,
   "metadata": {},
   "outputs": [
    {
     "data": {
      "text/html": [
       "<div>\n",
       "<style>\n",
       "    .dataframe thead tr:only-child th {\n",
       "        text-align: right;\n",
       "    }\n",
       "\n",
       "    .dataframe thead th {\n",
       "        text-align: left;\n",
       "    }\n",
       "\n",
       "    .dataframe tbody tr th {\n",
       "        vertical-align: top;\n",
       "    }\n",
       "</style>\n",
       "<table border=\"1\" class=\"dataframe\">\n",
       "  <thead>\n",
       "    <tr style=\"text-align: right;\">\n",
       "      <th></th>\n",
       "      <th>DID</th>\n",
       "      <th>HIST_YEAR BUILT</th>\n",
       "      <th>HIST_PAST_FAIL_OCCURENCE</th>\n",
       "      <th>8_ERROR_BND</th>\n",
       "      <th>HIST_568_FLOOD_MAGNIFICATION</th>\n",
       "      <th>HIST_568_ERROR_BND</th>\n",
       "      <th>FUTURE_568_FLOOD_MAGNIFICATION</th>\n",
       "      <th>FUTURE_568_ERROR_BND</th>\n",
       "      <th>HIST_566_FLOOD_FREQUENCY</th>\n",
       "      <th>HIST_566_ERROR_BND</th>\n",
       "      <th>FUTURE_566_FLOOD_FREQUENCY</th>\n",
       "      <th>FUTURE_566_ERROR_BND</th>\n",
       "      <th>HIST_244_BASE_FLOW</th>\n",
       "      <th>HIST_244_ERROR_BND</th>\n",
       "      <th>FUTURE_244_BASE_FLOW</th>\n",
       "      <th>FUTURE_244_ERROR_BND</th>\n",
       "      <th>HIST_221_MONTHLY_COV</th>\n",
       "      <th>HIST_221_ERROR_BND</th>\n",
       "      <th>FUTURE_221_MONTHLY_COV</th>\n",
       "      <th>FUTURE_221_ERROR_BND</th>\n",
       "      <th>HIST_570_90PERC_EXCEEDANCE</th>\n",
       "      <th>HIST_570_ERROR_BND</th>\n",
       "      <th>FUTURE_570_90PERC_EXCEEDANCE</th>\n",
       "      <th>FUTURE_570_ERROR_BND</th>\n",
       "      <th>HIST_65_MEAN_ANNUAL_RUNOFF</th>\n",
       "      <th>HIST_65_ERROR_BND</th>\n",
       "      <th>FUTURE_65_MEAN_ANNUAL_RUNOFF</th>\n",
       "      <th>FUTURE_65_ERROR_BND</th>\n",
       "    </tr>\n",
       "  </thead>\n",
       "  <tbody>\n",
       "    <tr>\n",
       "      <th>0</th>\n",
       "      <td>101</td>\n",
       "      <td>1973</td>\n",
       "      <td>1</td>\n",
       "      <td>3.968350</td>\n",
       "      <td>1.188755</td>\n",
       "      <td>0.013232</td>\n",
       "      <td>1.222408</td>\n",
       "      <td>0.086144</td>\n",
       "      <td>28</td>\n",
       "      <td>0</td>\n",
       "      <td>30</td>\n",
       "      <td>9</td>\n",
       "      <td>301.873840</td>\n",
       "      <td>0</td>\n",
       "      <td>222.694499</td>\n",
       "      <td>21.560592</td>\n",
       "      <td>1.578788</td>\n",
       "      <td>0</td>\n",
       "      <td>1.476680</td>\n",
       "      <td>0.045828</td>\n",
       "      <td>6970.063965</td>\n",
       "      <td>0</td>\n",
       "      <td>9093.810472</td>\n",
       "      <td>2284.164063</td>\n",
       "      <td>12134.541990</td>\n",
       "      <td>0</td>\n",
       "      <td>15424.513200</td>\n",
       "      <td>740.632020</td>\n",
       "    </tr>\n",
       "    <tr>\n",
       "      <th>1</th>\n",
       "      <td>102</td>\n",
       "      <td>1986</td>\n",
       "      <td>1</td>\n",
       "      <td>4.618573</td>\n",
       "      <td>1.150622</td>\n",
       "      <td>0.004403</td>\n",
       "      <td>1.395499</td>\n",
       "      <td>0.105719</td>\n",
       "      <td>49</td>\n",
       "      <td>0</td>\n",
       "      <td>51</td>\n",
       "      <td>3</td>\n",
       "      <td>544.580933</td>\n",
       "      <td>0</td>\n",
       "      <td>617.395578</td>\n",
       "      <td>28.316043</td>\n",
       "      <td>1.186746</td>\n",
       "      <td>0</td>\n",
       "      <td>1.492583</td>\n",
       "      <td>0.112619</td>\n",
       "      <td>11022.968750</td>\n",
       "      <td>0</td>\n",
       "      <td>11665.529270</td>\n",
       "      <td>725.960912</td>\n",
       "      <td>17147.287110</td>\n",
       "      <td>0</td>\n",
       "      <td>37209.012560</td>\n",
       "      <td>13147.603360</td>\n",
       "    </tr>\n",
       "    <tr>\n",
       "      <th>2</th>\n",
       "      <td>103</td>\n",
       "      <td>1983</td>\n",
       "      <td>1</td>\n",
       "      <td>4.001659</td>\n",
       "      <td>1.175774</td>\n",
       "      <td>0.004766</td>\n",
       "      <td>1.483181</td>\n",
       "      <td>0.181301</td>\n",
       "      <td>37</td>\n",
       "      <td>0</td>\n",
       "      <td>38</td>\n",
       "      <td>14</td>\n",
       "      <td>329.885376</td>\n",
       "      <td>0</td>\n",
       "      <td>463.487105</td>\n",
       "      <td>96.594437</td>\n",
       "      <td>1.396369</td>\n",
       "      <td>0</td>\n",
       "      <td>0.744292</td>\n",
       "      <td>0.091713</td>\n",
       "      <td>7725.490234</td>\n",
       "      <td>0</td>\n",
       "      <td>9828.574183</td>\n",
       "      <td>95.038572</td>\n",
       "      <td>11457.014650</td>\n",
       "      <td>0</td>\n",
       "      <td>15575.261310</td>\n",
       "      <td>4537.289882</td>\n",
       "    </tr>\n",
       "    <tr>\n",
       "      <th>3</th>\n",
       "      <td>104</td>\n",
       "      <td>1987</td>\n",
       "      <td>0</td>\n",
       "      <td>1.612443</td>\n",
       "      <td>1.080399</td>\n",
       "      <td>0.004054</td>\n",
       "      <td>1.281843</td>\n",
       "      <td>0.175950</td>\n",
       "      <td>59</td>\n",
       "      <td>0</td>\n",
       "      <td>63</td>\n",
       "      <td>2</td>\n",
       "      <td>195.382156</td>\n",
       "      <td>0</td>\n",
       "      <td>290.894438</td>\n",
       "      <td>30.246277</td>\n",
       "      <td>1.408635</td>\n",
       "      <td>0</td>\n",
       "      <td>1.078316</td>\n",
       "      <td>0.033938</td>\n",
       "      <td>4409.598633</td>\n",
       "      <td>0</td>\n",
       "      <td>2402.986813</td>\n",
       "      <td>182.111138</td>\n",
       "      <td>6809.225098</td>\n",
       "      <td>0</td>\n",
       "      <td>7043.237469</td>\n",
       "      <td>162.993012</td>\n",
       "    </tr>\n",
       "    <tr>\n",
       "      <th>4</th>\n",
       "      <td>105</td>\n",
       "      <td>1992</td>\n",
       "      <td>1</td>\n",
       "      <td>5.790788</td>\n",
       "      <td>1.283461</td>\n",
       "      <td>0.026428</td>\n",
       "      <td>1.284977</td>\n",
       "      <td>0.192374</td>\n",
       "      <td>44</td>\n",
       "      <td>0</td>\n",
       "      <td>49</td>\n",
       "      <td>4</td>\n",
       "      <td>429.786468</td>\n",
       "      <td>0</td>\n",
       "      <td>624.611584</td>\n",
       "      <td>84.195538</td>\n",
       "      <td>0.900577</td>\n",
       "      <td>0</td>\n",
       "      <td>0.656041</td>\n",
       "      <td>0.202283</td>\n",
       "      <td>7329.574219</td>\n",
       "      <td>0</td>\n",
       "      <td>6863.908858</td>\n",
       "      <td>1517.273808</td>\n",
       "      <td>10806.834960</td>\n",
       "      <td>0</td>\n",
       "      <td>6042.544012</td>\n",
       "      <td>1128.094304</td>\n",
       "    </tr>\n",
       "  </tbody>\n",
       "</table>\n",
       "</div>"
      ],
      "text/plain": [
       "   DID  HIST_YEAR BUILT  HIST_PAST_FAIL_OCCURENCE  8_ERROR_BND  \\\n",
       "0  101             1973                         1     3.968350   \n",
       "1  102             1986                         1     4.618573   \n",
       "2  103             1983                         1     4.001659   \n",
       "3  104             1987                         0     1.612443   \n",
       "4  105             1992                         1     5.790788   \n",
       "\n",
       "   HIST_568_FLOOD_MAGNIFICATION  HIST_568_ERROR_BND  \\\n",
       "0                      1.188755            0.013232   \n",
       "1                      1.150622            0.004403   \n",
       "2                      1.175774            0.004766   \n",
       "3                      1.080399            0.004054   \n",
       "4                      1.283461            0.026428   \n",
       "\n",
       "   FUTURE_568_FLOOD_MAGNIFICATION  FUTURE_568_ERROR_BND  \\\n",
       "0                        1.222408              0.086144   \n",
       "1                        1.395499              0.105719   \n",
       "2                        1.483181              0.181301   \n",
       "3                        1.281843              0.175950   \n",
       "4                        1.284977              0.192374   \n",
       "\n",
       "   HIST_566_FLOOD_FREQUENCY  HIST_566_ERROR_BND  FUTURE_566_FLOOD_FREQUENCY  \\\n",
       "0                        28                   0                          30   \n",
       "1                        49                   0                          51   \n",
       "2                        37                   0                          38   \n",
       "3                        59                   0                          63   \n",
       "4                        44                   0                          49   \n",
       "\n",
       "   FUTURE_566_ERROR_BND  HIST_244_BASE_FLOW  HIST_244_ERROR_BND  \\\n",
       "0                     9          301.873840                   0   \n",
       "1                     3          544.580933                   0   \n",
       "2                    14          329.885376                   0   \n",
       "3                     2          195.382156                   0   \n",
       "4                     4          429.786468                   0   \n",
       "\n",
       "   FUTURE_244_BASE_FLOW  FUTURE_244_ERROR_BND  HIST_221_MONTHLY_COV  \\\n",
       "0            222.694499             21.560592              1.578788   \n",
       "1            617.395578             28.316043              1.186746   \n",
       "2            463.487105             96.594437              1.396369   \n",
       "3            290.894438             30.246277              1.408635   \n",
       "4            624.611584             84.195538              0.900577   \n",
       "\n",
       "   HIST_221_ERROR_BND  FUTURE_221_MONTHLY_COV  FUTURE_221_ERROR_BND  \\\n",
       "0                   0                1.476680              0.045828   \n",
       "1                   0                1.492583              0.112619   \n",
       "2                   0                0.744292              0.091713   \n",
       "3                   0                1.078316              0.033938   \n",
       "4                   0                0.656041              0.202283   \n",
       "\n",
       "   HIST_570_90PERC_EXCEEDANCE  HIST_570_ERROR_BND  \\\n",
       "0                 6970.063965                   0   \n",
       "1                11022.968750                   0   \n",
       "2                 7725.490234                   0   \n",
       "3                 4409.598633                   0   \n",
       "4                 7329.574219                   0   \n",
       "\n",
       "   FUTURE_570_90PERC_EXCEEDANCE  FUTURE_570_ERROR_BND  \\\n",
       "0                   9093.810472           2284.164063   \n",
       "1                  11665.529270            725.960912   \n",
       "2                   9828.574183             95.038572   \n",
       "3                   2402.986813            182.111138   \n",
       "4                   6863.908858           1517.273808   \n",
       "\n",
       "   HIST_65_MEAN_ANNUAL_RUNOFF  HIST_65_ERROR_BND  \\\n",
       "0                12134.541990                  0   \n",
       "1                17147.287110                  0   \n",
       "2                11457.014650                  0   \n",
       "3                 6809.225098                  0   \n",
       "4                10806.834960                  0   \n",
       "\n",
       "   FUTURE_65_MEAN_ANNUAL_RUNOFF  FUTURE_65_ERROR_BND  \n",
       "0                  15424.513200           740.632020  \n",
       "1                  37209.012560         13147.603360  \n",
       "2                  15575.261310          4537.289882  \n",
       "3                   7043.237469           162.993012  \n",
       "4                   6042.544012          1128.094304  "
      ]
     },
     "execution_count": 2,
     "metadata": {},
     "output_type": "execute_result"
    }
   ],
   "source": [
    "dam = pd.read_csv(\"Flood_Protection_BL3.csv\")\n",
    "\n",
    "dam.head()"
   ]
  },
  {
   "cell_type": "markdown",
   "metadata": {},
   "source": [
    "The dataset contains the following information:\n",
    "1. Historic information on the characteristics of each dam and the associated error\n",
    "2. Historic information on whether a dam had previously experienced any form of failure\n",
    "3. Future estimates for the characteristics of each dam and the associated error with each estimate\n",
    "\n",
    "A table with the description of each variable name is shown below."
   ]
  },
  {
   "cell_type": "markdown",
   "metadata": {},
   "source": [
    "![title](metadata.png)"
   ]
  },
  {
   "cell_type": "code",
   "execution_count": 3,
   "metadata": {},
   "outputs": [
    {
     "data": {
      "text/plain": [
       "(204, 28)"
      ]
     },
     "execution_count": 3,
     "metadata": {},
     "output_type": "execute_result"
    }
   ],
   "source": [
    "dam.shape"
   ]
  },
  {
   "cell_type": "markdown",
   "metadata": {},
   "source": [
    "So there are a total of 204 dams to choose from. For this project, we were tasked with determining which 5 dams deserved the top priority. In other words, which 5 dams out of the 204 dams provided were most likely to fail in the future?"
   ]
  },
  {
   "cell_type": "markdown",
   "metadata": {},
   "source": [
    "# Method"
   ]
  },
  {
   "cell_type": "markdown",
   "metadata": {},
   "source": [
    "The probability of each dam’s failure in the future was predicted using a seven-variable ordinary least squares regression model. I first incorporated uncertainty into the historic data and found the parameters of the model that best fit that data. I then introduced uncertainty into the future data. Using the parameters obtained from fitting an ordinary least squares regression model onto the historic data, I predicted each dam’s probability of failure in the future and saved the IDs of the five dams with the highest probability of failure. This entire process was repeated 10,000 times. To account for the uncertainty associated with the variables, the error associated with each of the variables changed with every iteration."
   ]
  },
  {
   "cell_type": "markdown",
   "metadata": {},
   "source": [
    "# Steps Taken"
   ]
  },
  {
   "cell_type": "markdown",
   "metadata": {},
   "source": [
    "## 1. Incorporate uncertainty into the historic and future data\n",
    "For both historic and future data, uncertainty was incorporated by assuming that the errors associated with each variable are normally distributed. Given the lack of information surrounding the probability distribution of the errors and the wide range of naturally occurring normal distributions, assuming that the errors are normally distributed was the most reasonable option available.\n",
    "\n",
    "However, it is also possible that error boundaries provided future are not accurate. As such, when specifying the normal distribution, I made it such that 90% of the errors associated with each observation would fall between the error range indicated. In other words, the errors were stipulated to follow a normal distribution of $N$(0, $\\frac{error}{1.64}$). (1.64 was obtained as P(Z obtained > 1.64) = 0.05.)"
   ]
  },
  {
   "cell_type": "markdown",
   "metadata": {},
   "source": [
    "## 2. Determining the criteria for selecting the best model\n",
    "The criteria that I used for selecting the best model for prediction was the model that generated the lowest Mean Absolute Error (MAE). Under this approach, the MAE of each model was estimated by taking the absolute difference of the model’s predicted probability of a dam failing based on historic data and whether the dam had actually failed in the past. The lower the MAE is, the lower the average error associated with each dam’s predicted probability of failure is, and thus the better the model is. As the full population of dams and their associated data were measured, the lack of statistical assumptions associated with this method does not prevent us from generalizing the results obtained. Furthermore, the ease of interpretation and calculation of the MAE facilitates the justification of resource allocation decisions as policymakers may lack the statistical knowledge required to comprehend alternative methods of determining the model of best fit."
   ]
  },
  {
   "cell_type": "markdown",
   "metadata": {},
   "source": [
    "## 3. Obtaining the best model and saving its parameters\n",
    "The model that was selected involved obtaining the parameters from a multiple linear regression of a dam’s past failure occurrence on its flood magnification, flood frequency, base flow, monthly covariance of flow-squared, 90% exceedance frequency-squared, mean annual runoff, and age-squared (without an intercept). This model was selected as it possessed the lowest MAE that I could find from various combinations of quadratic and linear terms of the variables. The parameters of the model were then saved."
   ]
  },
  {
   "cell_type": "markdown",
   "metadata": {},
   "source": [
    "## 4. Using the model to predict the probability of future dam failure\n",
    "The set of parameters found in Step 3 was applied to the future data (with uncertainty incorporated) to calculate each dam’s predicted probability of future failure. The dams with the five highest predicted probability of failure were saved."
   ]
  },
  {
   "cell_type": "markdown",
   "metadata": {},
   "source": [
    "## 5. Repeat Steps 1$-$4 10,000 times\n",
    "As a result of uncertainty surrounding future estimates, the errors associated with each variable has the potential to change in both magnitude and direction. Consequently, the model of best fit in one iteration will be different from that of another iteration. It is thus possible that a particular iteration generates error values that result in one dam having an anomalously high probability of failure. In other words, the dams with the five highest predicted probability of failure in a single iteration is not necessarily representative of the true probability distribution of dam failure.\n",
    "\n",
    "As it is statistically unlikely for anomalous error values to be consistently generated over a large number of simulations, simulating 10,000 observations by repeating Steps 1$-$4 yields a better approximation of the probability distribution of dam failure. The IDs of the five dams that were most frequently predicted to be in the group of five dams with the highest probability of failure are thus more likely to be the highest priority dams."
   ]
  },
  {
   "cell_type": "markdown",
   "metadata": {},
   "source": [
    "## 6. Robustness checks\n",
    "Robustness checks to verify the accuracy of the results obtained were conducted by recording the number of times that dams appeared in the top 3$–$7 dams with the highest probability of failure. If it were the case that the same five dams consistently and frequently appeared in the top 3$–$7 dams with the highest probability of failure, that would suggest that the highest priority dams were correctly identified."
   ]
  },
  {
   "cell_type": "markdown",
   "metadata": {},
   "source": [
    "# Full Code"
   ]
  },
  {
   "cell_type": "code",
   "execution_count": 4,
   "metadata": {
    "collapsed": true
   },
   "outputs": [],
   "source": [
    "#These are the lists which that store the final results.\n",
    "record_outcomes = [] #This will store the MAE\n",
    "top_3_dam_ids = []\n",
    "top_4_dam_ids = []\n",
    "top_5_dam_ids = []\n",
    "top_6_dam_ids = []\n",
    "top_7_dam_ids = []\n",
    "\n",
    "#Run 10000 iterations\n",
    "counter = 0\n",
    "while counter < 10000:\n",
    "    global dam\n",
    "\n",
    "    dam = pd.read_csv(\"Flood_Protection_BL3.csv\")\n",
    "            \n",
    "    #I created an \"AGE\" column for the dams\n",
    "    dam[\"AGE\"] = 2018 - dam[\"HIST_YEAR BUILT\"]\n",
    "\n",
    "    global sim_dam\n",
    "    #For each iteration, I created a deep copy of the original dataset.\n",
    "    sim_dam = dam.copy(deep=True)\n",
    "    \n",
    "    #This is how I incorporate uncertainty into the errors such that 90% of the time, it falls within the bounds.\n",
    "    #To get the bounds, take error / z_crit\n",
    "    z_crit = scipy.stats.norm.ppf(0.95)\n",
    "    \n",
    "    #Generating errors for historical flood magnification. This was the only historical data with error bounds.\n",
    "    flood_mag_error = []\n",
    "    for i in range(len(sim_dam)):\n",
    "        flood_mag_error.append(random.normalvariate(0, sim_dam['HIST_568_ERROR_BND'][i]/z_crit))\n",
    "    \n",
    "    #Using list(map(add)). I found that this was one of the most efficient methods for incorporating errors\n",
    "    sim_dam['HIST_568_FLOOD_MAGNIFICATION'] = pd.Series(list(map(add, \\\n",
    "                                        list(sim_dam['HIST_568_FLOOD_MAGNIFICATION']), flood_mag_error)))\n",
    "\n",
    "    #Generating the additional variables of interest\n",
    "    sim_dam[\"AGE_sq\"] = sim_dam[\"AGE\"]**2\n",
    "    sim_dam[\"HIST_570_90PERC_EXCEEDANCE_sq\"] = sim_dam[\"HIST_570_90PERC_EXCEEDANCE\"]**2\n",
    "    sim_dam[\"HIST_221_MONTHLY_COV_sq\"] = sim_dam[\"HIST_221_MONTHLY_COV\"]**2\n",
    "    \n",
    "    #This is the OLS model that produces the parameters based on historical values (with errors incorporated)\n",
    "    model = statsmodels.formula.api.ols(formula=\"HIST_PAST_FAIL_OCCURENCE ~ HIST_568_FLOOD_MAGNIFICATION + \\\n",
    "                                    HIST_566_FLOOD_FREQUENCY + HIST_244_BASE_FLOW + \\\n",
    "                                    HIST_221_MONTHLY_COV_sq + HIST_570_90PERC_EXCEEDANCE_sq + \\\n",
    "                                    HIST_65_MEAN_ANNUAL_RUNOFF + AGE_sq -1\", \n",
    "                                    data=sim_dam).fit()\n",
    "    \n",
    "    #This is how I calculate the MAE of the historical model\n",
    "    #First, I save the actual historical failure occurrence\n",
    "    prediction_target = sim_dam['HIST_PAST_FAIL_OCCURENCE']\n",
    "    \n",
    "    #I then save the coefficients of the OLS model. I admit that this step is a little unnecessary.\n",
    "    #But it makes the code easier to understand\n",
    "    flood_mag_param = model.params[0]\n",
    "    flood_freq_param = model.params[1]\n",
    "    base_flow_param = model.params[2]\n",
    "    monthly_cov_sq_param = model.params[3]\n",
    "    ninety_perc_sq_param = model.params[4]\n",
    "    mean_ann_param = model.params[5]\n",
    "    age_sq_param = model.params[6]\n",
    "        \n",
    "    flood_mag_var = sim_dam['HIST_568_FLOOD_MAGNIFICATION'].values\n",
    "    flood_freq_var = sim_dam['HIST_566_FLOOD_FREQUENCY'].values\n",
    "    base_flow_var = sim_dam['HIST_244_BASE_FLOW'].values\n",
    "    monthly_cov_var = sim_dam['HIST_221_MONTHLY_COV'].values\n",
    "    ninety_perc_var = sim_dam['HIST_570_90PERC_EXCEEDANCE'].values\n",
    "    mean_ann_var = sim_dam['HIST_65_MEAN_ANNUAL_RUNOFF'].values\n",
    "    age_var = sim_dam['AGE'].values\n",
    "        \n",
    "    #This provides me with a list of the prediction values\n",
    "    dam_failure_prediction = (flood_mag_var * flood_mag_param) + \\\n",
    "                            (flood_freq_var * flood_freq_param) + \\\n",
    "                            (base_flow_var * base_flow_param) + \\\n",
    "                            (monthly_cov_var**2 * monthly_cov_sq_param) + \\\n",
    "                            (ninety_perc_var**2 * ninety_perc_sq_param) + \\\n",
    "                            (mean_ann_var * mean_ann_param) + \\\n",
    "                            (age_var**2 * age_sq_param)\n",
    "    \n",
    "    #This calculates the MAE\n",
    "    MAE = (1/len(prediction_target)) * math.fsum(abs(prediction_target - dam_failure_prediction))\n",
    "    \n",
    "    #Saving the MAE to a list\n",
    "    record_outcomes.append(MAE)\n",
    "    \n",
    "    #I then incorporate the errors for the future data\n",
    "    fut_flood_mag_error = []\n",
    "    for i in range(len(sim_dam)):\n",
    "        fut_flood_mag_error.append(random.normalvariate(0, sim_dam['FUTURE_568_ERROR_BND'][i]/z_crit))\n",
    "    sim_dam['FUTURE_568_FLOOD_MAGNIFICATION'] = pd.Series(list(map(add, \\\n",
    "                                            list(sim_dam['FUTURE_568_FLOOD_MAGNIFICATION']), fut_flood_mag_error)))\n",
    "\n",
    "    fut_flood_freq_error = []\n",
    "    for i in range(len(sim_dam)):\n",
    "        fut_flood_freq_error.append(random.normalvariate(0, sim_dam['FUTURE_566_ERROR_BND'][i]/z_crit))\n",
    "    sim_dam['FUTURE_566_FLOOD_FREQUENCY'] = pd.Series(list(map(add, \\\n",
    "                                            list(sim_dam['FUTURE_566_FLOOD_FREQUENCY']), fut_flood_freq_error)))\n",
    "    \n",
    "    #I rounded the floor frequency to the nearest whole number because it is only allowed to take on whole numbers\n",
    "    sim_dam['FUTURE_566_FLOOD_FREQUENCY'] = sim_dam['FUTURE_566_FLOOD_FREQUENCY'].apply(round)\n",
    "    \n",
    "    fut_base_flow_error = []\n",
    "    for i in range(len(sim_dam)):\n",
    "        fut_base_flow_error.append(random.normalvariate(0, sim_dam['FUTURE_244_ERROR_BND'][i]/z_crit))\n",
    "    sim_dam['FUTURE_244_BASE_FLOW'] = pd.Series(list(map(add, \\\n",
    "                                            list(sim_dam['FUTURE_244_BASE_FLOW']), fut_base_flow_error)))\n",
    "    \n",
    "    fut_month_cov_error = []\n",
    "    for i in range(len(sim_dam)):\n",
    "        fut_month_cov_error.append(random.normalvariate(0, sim_dam['FUTURE_221_ERROR_BND'][i]/z_crit))\n",
    "    sim_dam['FUTURE_221_MONTHLY_COV'] = pd.Series(list(map(add, \\\n",
    "                                            list(sim_dam['FUTURE_221_MONTHLY_COV']), fut_month_cov_error)))\n",
    "    \n",
    "    fut_90exceed_error = []\n",
    "    for i in range(len(sim_dam)):\n",
    "        fut_90exceed_error.append(random.normalvariate(0, sim_dam['FUTURE_570_ERROR_BND'][i]/z_crit))\n",
    "    sim_dam['FUTURE_570_90PERC_EXCEEDANCE'] = pd.Series(list(map(add, \\\n",
    "                                            list(sim_dam['FUTURE_570_90PERC_EXCEEDANCE']), fut_90exceed_error)))\n",
    "    \n",
    "    fut_mean_ann_error = []\n",
    "    for i in range(len(sim_dam)):\n",
    "        fut_mean_ann_error.append(random.normalvariate(0, sim_dam['FUTURE_65_ERROR_BND'][i]/z_crit))\n",
    "    sim_dam['FUTURE_65_MEAN_ANNUAL_RUNOFF'] = pd.Series(list(map(add, \\\n",
    "                                            list(sim_dam['FUTURE_65_MEAN_ANNUAL_RUNOFF']), fut_mean_ann_error)))\n",
    "    \n",
    "    #This is where I calculate the probability of failure for each dam in the future.\n",
    "    sim_dam[\"Probability_of_Failure\"] = (sim_dam['FUTURE_568_FLOOD_MAGNIFICATION'] * flood_mag_param + \\\n",
    "                      sim_dam['FUTURE_566_FLOOD_FREQUENCY'] * flood_freq_param + \\\n",
    "                      sim_dam['FUTURE_244_BASE_FLOW'] * base_flow_param + \\\n",
    "                      sim_dam['FUTURE_221_MONTHLY_COV']**2 * monthly_cov_sq_param + \\\n",
    "                      sim_dam['FUTURE_570_90PERC_EXCEEDANCE']**2 * ninety_perc_sq_param + \\\n",
    "                      sim_dam['FUTURE_65_MEAN_ANNUAL_RUNOFF'] * mean_ann_param + \\\n",
    "                      sim_dam['AGE']**2 * age_sq_param)\n",
    "    \n",
    "    #This was how I did robustness checks\n",
    "    top_3 = sim_dam.nlargest(3, 'Probability_of_Failure')\n",
    "    top_4 = sim_dam.nlargest(4, 'Probability_of_Failure')\n",
    "    top_5 = sim_dam.nlargest(5, 'Probability_of_Failure')\n",
    "    top_6 = sim_dam.nlargest(6, 'Probability_of_Failure')\n",
    "    top_7 = sim_dam.nlargest(7, 'Probability_of_Failure')\n",
    "    \n",
    "    top_3_dam_ids.append(top_3[\"DID\"].tolist())\n",
    "    top_4_dam_ids.append(top_4[\"DID\"].tolist())\n",
    "    top_5_dam_ids.append(top_5[\"DID\"].tolist())\n",
    "    top_6_dam_ids.append(top_6[\"DID\"].tolist())\n",
    "    top_7_dam_ids.append(top_7[\"DID\"].tolist())\n",
    "    counter = counter + 1"
   ]
  },
  {
   "cell_type": "markdown",
   "metadata": {},
   "source": [
    "# Results & Discussion"
   ]
  },
  {
   "cell_type": "markdown",
   "metadata": {},
   "source": [
    "The graph below shows how often each dam appeared in the Top 5 Dams with the highest predicted probability of failing in the future."
   ]
  },
  {
   "cell_type": "code",
   "execution_count": 5,
   "metadata": {},
   "outputs": [
    {
     "data": {
      "image/png": "[encoded data removed]",
      "text/plain": [
       "<matplotlib.figure.Figure at 0x2b0f56cd8f28>"
      ]
     },
     "metadata": {},
     "output_type": "display_data"
    }
   ],
   "source": [
    "#Obtaining the frequency distribution of the top 5 dams.\n",
    "flat_top5_list = [item for sublist in top_5_dam_ids for item in sublist]\n",
    "dam_counts = collections.Counter(flat_top5_list)\n",
    "plt.bar(range(len(dam_counts)), list(dam_counts.values()), align='center')\n",
    "plt.xticks(range(len(dam_counts)), list(dam_counts.keys()), rotation=\"vertical\")\n",
    "plt.ylabel(\"Number of Iterations Dam in Top 5\")\n",
    "plt.xlabel(\"Dam ID\")\n",
    "plt.title(\"Dams in Top 5\")\n",
    "plt.show()"
   ]
  },
  {
   "cell_type": "markdown",
   "metadata": {},
   "source": [
    "The IDs of the five dams that were most frequently predicted to be in the group of five dams with the highest probability of failure – dams 1401, 1503, 1507, 1706, and 1810 – were identified as possessing the highest risk of failure and are thus of highest priority.\n",
    "\n",
    "The fact that there are relatively few dam IDs appearing in the Top 5 implies that the uncertainty incorporated into the historic and future data does not have a significant impact on the results."
   ]
  },
  {
   "cell_type": "markdown",
   "metadata": {},
   "source": [
    "To get a sense of the accuracy of the model, we can observe the MAE of the historic model."
   ]
  },
  {
   "cell_type": "code",
   "execution_count": 6,
   "metadata": {},
   "outputs": [
    {
     "name": "stdout",
     "output_type": "stream",
     "text": [
      "0.3545605093769628\n"
     ]
    }
   ],
   "source": [
    "#Obtaining the MAE\n",
    "MAEs = pd.Series(record_outcomes)\n",
    "print(MAEs.mean())"
   ]
  },
  {
   "cell_type": "markdown",
   "metadata": {},
   "source": [
    "This isn't a particularly great MAE. This means when using historic data to predict the probability of whether or not a dam has failed in the past, our predicted probability of failure is, on average, off by 0.355. Considering that probabilities can only take on values between 0 and 1, it's very likely that our predicted probabilities are very inaccurate."
   ]
  },
  {
   "cell_type": "markdown",
   "metadata": {},
   "source": [
    "That said, the results were found to be robust across the top 3 – 7 dams in each iteration. This is evinced from the fact that across the top 3 – 7 dams with the highest probability of failure, the five dams IDs that appeared the most frequently were always the same."
   ]
  },
  {
   "cell_type": "code",
   "execution_count": 7,
   "metadata": {},
   "outputs": [
    {
     "data": {
      "text/plain": [
       "1401    9772\n",
       "1503    9391\n",
       "1810    8488\n",
       "1706    7670\n",
       "1507    6646\n",
       "107     3167\n",
       "1709    1743\n",
       "1801    1547\n",
       "903     1202\n",
       "1506     153\n",
       "806      139\n",
       "1110      39\n",
       "1102      19\n",
       "1501      18\n",
       "1304       4\n",
       "1502       1\n",
       "106        1\n",
       "dtype: int64"
      ]
     },
     "execution_count": 7,
     "metadata": {},
     "output_type": "execute_result"
    }
   ],
   "source": [
    "#Obtaining results for Top 5 Dams\n",
    "top5values = pd.Series(flat_top5_list)\n",
    "top5values.value_counts()"
   ]
  },
  {
   "cell_type": "code",
   "execution_count": 8,
   "metadata": {},
   "outputs": [
    {
     "data": {
      "text/plain": [
       "1401    9522\n",
       "1503    7990\n",
       "1810    7211\n",
       "1507    2433\n",
       "1706    1214\n",
       "107      659\n",
       "1709     453\n",
       "1801     261\n",
       "903      243\n",
       "806        7\n",
       "1506       6\n",
       "1501       1\n",
       "dtype: int64"
      ]
     },
     "execution_count": 8,
     "metadata": {},
     "output_type": "execute_result"
    }
   ],
   "source": [
    "#Robustness check - Top 3\n",
    "flat_top3_list = [item for sublist in top_3_dam_ids for item in sublist]\n",
    "top3values = pd.Series(flat_top3_list)\n",
    "top3values.value_counts()"
   ]
  },
  {
   "cell_type": "code",
   "execution_count": 9,
   "metadata": {},
   "outputs": [
    {
     "data": {
      "text/plain": [
       "1401    9666\n",
       "1503    8897\n",
       "1810    7966\n",
       "1507    4913\n",
       "1706    4321\n",
       "107     1716\n",
       "1709    1040\n",
       "1801     770\n",
       "903      635\n",
       "1506      38\n",
       "806       31\n",
       "1501       4\n",
       "1102       2\n",
       "1110       1\n",
       "dtype: int64"
      ]
     },
     "execution_count": 9,
     "metadata": {},
     "output_type": "execute_result"
    }
   ],
   "source": [
    "#Robustness check - Top 4\n",
    "flat_top4_list = [item for sublist in top_4_dam_ids for item in sublist]\n",
    "top4values = pd.Series(flat_top4_list)\n",
    "top4values.value_counts()"
   ]
  },
  {
   "cell_type": "code",
   "execution_count": 10,
   "metadata": {},
   "outputs": [
    {
     "data": {
      "text/plain": [
       "1401    9837\n",
       "1503    9676\n",
       "1706    9378\n",
       "1810    8910\n",
       "1507    8000\n",
       "107     4940\n",
       "1709    2817\n",
       "1801    2675\n",
       "903     2196\n",
       "806      510\n",
       "1506     487\n",
       "1110     335\n",
       "1102     119\n",
       "1501      93\n",
       "1304      15\n",
       "1502       6\n",
       "106        4\n",
       "304        2\n",
       "dtype: int64"
      ]
     },
     "execution_count": 10,
     "metadata": {},
     "output_type": "execute_result"
    }
   ],
   "source": [
    "#Robustness Check - Top 6\n",
    "flat_top6_list = [item for sublist in top_6_dam_ids for item in sublist]\n",
    "top6values = pd.Series(flat_top6_list)\n",
    "top6values.value_counts()"
   ]
  },
  {
   "cell_type": "code",
   "execution_count": 11,
   "metadata": {},
   "outputs": [
    {
     "data": {
      "text/plain": [
       "1401    9893\n",
       "1706    9869\n",
       "1503    9829\n",
       "1810    9221\n",
       "1507    8846\n",
       "107     6416\n",
       "1801    3999\n",
       "1709    3983\n",
       "903     3376\n",
       "1110    1573\n",
       "806     1204\n",
       "1506    1067\n",
       "1102     355\n",
       "1501     283\n",
       "1304      40\n",
       "1502      17\n",
       "106       15\n",
       "304       12\n",
       "1508       1\n",
       "414        1\n",
       "dtype: int64"
      ]
     },
     "execution_count": 11,
     "metadata": {},
     "output_type": "execute_result"
    }
   ],
   "source": [
    "#Robustness Check - Top 7\n",
    "flat_top7_list = [item for sublist in top_7_dam_ids for item in sublist]\n",
    "top7values = pd.Series(flat_top7_list)\n",
    "top7values.value_counts()"
   ]
  },
  {
   "cell_type": "markdown",
   "metadata": {},
   "source": [
    "The table below illustrates that the five dam IDs that most frequently appeared in the Top 3$-$7 Dams were always the same."
   ]
  },
  {
   "cell_type": "markdown",
   "metadata": {},
   "source": [
    "![title](robustcheck.png)"
   ]
  },
  {
   "cell_type": "markdown",
   "metadata": {},
   "source": [
    "# Limitations"
   ]
  },
  {
   "cell_type": "markdown",
   "metadata": {},
   "source": [
    "As mentioned near the start of this post, the purpose of this project was to demonstrate how to conduct a Monte Carlo Simulation to guide decision making. As indicated by the high MAE, using an ordinary least squares regression isn't the best way to predict a binary variable. It is also possible that information on other variables that would have been better predictors of dam failure rates were unavailable.\n",
    "\n",
    "This method also makes use of a very strong assumption: As the parameters from the ordinary least squares regression obtained from historic data were directly used to calculate the probability of future dam failure, this assumes that the relationship between the variables do not change over time. As such, if it were the case that a particular variable's predictive power changes, the probability of future dam failure calculated using parameters from the ordinary least squares regression would fail to account for this change."
   ]
  },
  {
   "cell_type": "markdown",
   "metadata": {},
   "source": [
    "# Final Thoughts"
   ]
  },
  {
   "cell_type": "markdown",
   "metadata": {},
   "source": [
    "Does this mean that this project was a colossal waste of time? Not necessarily. After all, predicting the future is hard and always involves certain assumptions and limitations. That said, it is imperative that one be transparent about the assumptions and limitations associated with one's analyses such that others can interpret the results within a better context."
   ]
  }
 ],
 "metadata": {
  "kernelspec": {
   "display_name": "Python 3",
   "language": "python",
   "name": "python3"
  },
  "language_info": {
   "codemirror_mode": {
    "name": "ipython",
    "version": 3
   },
   "file_extension": ".py",
   "mimetype": "text/x-python",
   "name": "python",
   "nbconvert_exporter": "python",
   "pygments_lexer": "ipython3",
   "version": "3.6.3"
  }
 },
 "nbformat": 4,
 "nbformat_minor": 2
}
