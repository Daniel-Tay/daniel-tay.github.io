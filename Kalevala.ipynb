{
 "cells": [
  {
   "cell_type": "markdown",
   "metadata": {},
   "source": [
    "# *The Kalevala* - Textual Analysis\n",
    "\n",
    "The following analysis was done as one of two possible options for the Final Project of CSCI 140 - Programming for Data Science (taught by Professor Dana Willner) in Fall 2017.\n",
    "\n",
    "The data used for this project is an excerpt from the Finnish national epic poem, The Kalevala (link: https://github.com/Daniel-Tay/daniel-tay.github.io/blob/master/Kalevala_ka.txt). As part of this project, words were classified based on their vowel class.\n",
    "\n",
    "As part of this project, the data was reformatted to allow for some analysis and visualization."
   ]
  },
  {
   "cell_type": "markdown",
   "metadata": {},
   "source": [
    "# Background Information\n",
    "There are eight vowels in the Finnish language, and these vowels can be categorised into three different groups:\n",
    "1. Front vowels (ä, ö, y)\n",
    "2. Back vowels (a, o, u)\n",
    "3. Middle/Neutral vowels (e, i)\n",
    "\n",
    "A word's vowel pattern shows the order in which each type of vowel appears in a word. This means that a vowel pattern consists of a combination of the letters F(for front), B(for back), and M(for middle). For example, the word *merelle* has a vowel pattern of MMM; consonants are ignored, and words with no vowels in them are coded as an empty string.\n",
    "\n",
    "Based on a word's vowel pattern, it can be classified into three different groups:\n",
    "1. Pure: All vowels in the word are of the same type (i.e.  all vowels are front/back/middle vowels only)\n",
    "2. Mixed: Contains front and middle OR back and middle vowels\n",
    "3. Aberrant: Contains both front and back vowels (can also contain middle vowels)\n",
    "\n",
    "A language is said to exhibit vowel harmony if the vowels in words exist in the same sub-class (i.e. pure/mixed words only)."
   ]
  },
  {
   "cell_type": "markdown",
   "metadata": {},
   "source": [
    "# Setting up the workspace and importing the data"
   ]
  },
  {
   "cell_type": "code",
   "execution_count": 1,
   "metadata": {
    "collapsed": true
   },
   "outputs": [],
   "source": [
    "% matplotlib inline\n",
    "import warnings\n",
    "warnings.filterwarnings('ignore')\n",
    "import pandas as pd\n",
    "import scipy.stats as ss\n",
    "import seaborn as sns\n",
    "import re\n",
    "import matplotlib.pyplot as plt\n",
    "import numpy as np\n",
    "sns.set_style('darkgrid')\n",
    "import string"
   ]
  },
  {
   "cell_type": "markdown",
   "metadata": {},
   "source": [
    "My first course of action was to extract the words in the excerpt of *The Kalevala* into a list."
   ]
  },
  {
   "cell_type": "code",
   "execution_count": 2,
   "metadata": {},
   "outputs": [
    {
     "name": "stdout",
     "output_type": "stream",
     "text": [
      "[['vaka', 'vanha', 'väinämöinen'], ['toinen', 'seppo', 'ilmarinen'], ['kolmas', 'lieto', 'lemmin', 'poika'], ['tuo', 'on', 'kaunis', 'kaukomieli'], ['läksi', 'selvälle', 'merelle']]\n"
     ]
    }
   ],
   "source": [
    "kale = open('Kalevala_ka.txt', 'r')\n",
    "templist = []\n",
    "table = str.maketrans(string.punctuation, ' '*len(string.punctuation))\n",
    "for line in kale:\n",
    "    line = line.rstrip().lower().translate(table).rstrip()\n",
    "    templist.append(line)\n",
    "kalevala = pd.Series(templist)\n",
    "kale.close()\n",
    "\n",
    "#I then converted the file into a list.\n",
    "kalevala_list = []\n",
    "for word in kalevala:\n",
    "    kalevala_list += [re.findall('\\w+', word)]\n",
    "\n",
    "#Verifying the output\n",
    "print(kalevala_list[0:5])"
   ]
  },
  {
   "cell_type": "markdown",
   "metadata": {},
   "source": [
    "I noticed that the output was a list of lists, so I used the following code to convert it into a list that simply contained all of the individual words."
   ]
  },
  {
   "cell_type": "code",
   "execution_count": 3,
   "metadata": {},
   "outputs": [
    {
     "name": "stdout",
     "output_type": "stream",
     "text": [
      "['vaka', 'vanha', 'väinämöinen', 'toinen', 'seppo']\n"
     ]
    }
   ],
   "source": [
    "kalevala_final = []\n",
    "for item in kalevala_list:\n",
    "    for i in range(0,len(item)):\n",
    "        kalevala_final += [item[i]]\n",
    "\n",
    "#Verifying the output\n",
    "print(kalevala_final[0:5])"
   ]
  },
  {
   "cell_type": "markdown",
   "metadata": {},
   "source": [
    "Given that some of the words would be repeated in kalevala_final, I created (yet) another list that contained\n",
    "the unique words that appeared in *The Kalevala*."
   ]
  },
  {
   "cell_type": "code",
   "execution_count": 4,
   "metadata": {},
   "outputs": [
    {
     "name": "stdout",
     "output_type": "stream",
     "text": [
      "['a', 'aalloillen', 'aalloilta', 'aallon', 'aallosta', 'aallot', 'aalto', 'aaltoja', 'aaltojen', 'aamun', 'aartehia', 'aartehiksi', 'ahavan', 'ahoa', 'aholla', 'ahon', 'ahot', 'ahto', 'ahtolaisten', 'ahtolan', 'aika', 'aikainen', 'aikaisehen', 'aikehessa', 'aikoa', 'aikoinani', 'ain', 'aina', 'ainiaisen', 'ainian', 'ainoista', 'ainokseni', 'aioin', 'airoillen', 'airojasi', 'airot', 'aita', 'aivan', 'aivossansa', 'ajaite', 'ajan', 'ajat', 'ajattelevi', 'ajatuksista', 'ajavan', 'ajeli', 'ajeltavaksi', 'ajeltaviksi', 'ajoihe', 'akkoja', 'akkojen', 'akseni', 'alakivelle', 'alakäsille', 'alastomaksi', 'alati', 'alenevan', 'aleni', 'alenna', 'alimaisille', 'alkoi', 'alku', 'alla', 'allani', 'alle', 'allensa', 'alta', 'alusta', 'ampujaurosta', 'anastettu', 'anella', 'ankaran', 'anna', 'annan', 'antahan', 'antane', 'antoi', 'apua', 'apuna', 'armahamman', 'armahampi', 'armahansa', 'armonani', 'arvasi', 'arvelee', 'arvelevi', 'arvellessa', 'arvioni', 'arvionsa', 'asehinensa', 'aseta', 'asetetuksi', 'asetteleisin', 'asettelevi', 'asetti', 'asetu', 'astahti', 'asti', 'astuessansa', 'astui']\n"
     ]
    }
   ],
   "source": [
    "#I did this by casting kalevala_final into a set.\n",
    "kalevala_unique = []\n",
    "for item in sorted(set(kalevala_final)):\n",
    "    kalevala_unique += [item]\n",
    "\n",
    "#Verifying the output\n",
    "print(kalevala_unique[0:100])"
   ]
  },
  {
   "cell_type": "markdown",
   "metadata": {},
   "source": [
    "# Assigned tasks for this project\n",
    "1. Determine the most common vowel pattern and how often it occurs.\n",
    "2. Investigate whether the Finnish language exhibits vowel harmony.\n",
    "3. Determine if the aberrant words follow a certain pattern."
   ]
  },
  {
   "cell_type": "markdown",
   "metadata": {},
   "source": [
    "# Data cleaning and reformatting"
   ]
  },
  {
   "cell_type": "markdown",
   "metadata": {},
   "source": [
    "I first made a function that produced the vowel pattern of each word."
   ]
  },
  {
   "cell_type": "code",
   "execution_count": 5,
   "metadata": {
    "collapsed": true
   },
   "outputs": [],
   "source": [
    "def find_vowel_pattern(word):\n",
    "    value = \"\"\n",
    "    vowel_pattern = {'a':'B', 'e':'M', 'i':'M', 'o':'B', 'u':'B', 'y':'F', 'ö': 'F', 'ä':'F'}\n",
    "    for letter in word:\n",
    "        if letter in vowel_pattern:\n",
    "            value += vowel_pattern[letter]\n",
    "    return value"
   ]
  },
  {
   "cell_type": "markdown",
   "metadata": {},
   "source": [
    "I then obtained a data frame (FinVowel) containing each unique word and applied the function I created above to create a new column in the data frame."
   ]
  },
  {
   "cell_type": "code",
   "execution_count": 6,
   "metadata": {},
   "outputs": [
    {
     "data": {
      "text/html": [
       "<div>\n",
       "<style>\n",
       "    .dataframe thead tr:only-child th {\n",
       "        text-align: right;\n",
       "    }\n",
       "\n",
       "    .dataframe thead th {\n",
       "        text-align: left;\n",
       "    }\n",
       "\n",
       "    .dataframe tbody tr th {\n",
       "        vertical-align: top;\n",
       "    }\n",
       "</style>\n",
       "<table border=\"1\" class=\"dataframe\">\n",
       "  <thead>\n",
       "    <tr style=\"text-align: right;\">\n",
       "      <th></th>\n",
       "      <th>Word</th>\n",
       "      <th>Vowel_Pattern</th>\n",
       "    </tr>\n",
       "  </thead>\n",
       "  <tbody>\n",
       "    <tr>\n",
       "      <th>0</th>\n",
       "      <td>a</td>\n",
       "      <td>B</td>\n",
       "    </tr>\n",
       "    <tr>\n",
       "      <th>1</th>\n",
       "      <td>aalloillen</td>\n",
       "      <td>BBBMM</td>\n",
       "    </tr>\n",
       "    <tr>\n",
       "      <th>2</th>\n",
       "      <td>aalloilta</td>\n",
       "      <td>BBBMB</td>\n",
       "    </tr>\n",
       "    <tr>\n",
       "      <th>3</th>\n",
       "      <td>aallon</td>\n",
       "      <td>BBB</td>\n",
       "    </tr>\n",
       "    <tr>\n",
       "      <th>4</th>\n",
       "      <td>aallosta</td>\n",
       "      <td>BBBB</td>\n",
       "    </tr>\n",
       "  </tbody>\n",
       "</table>\n",
       "</div>"
      ],
      "text/plain": [
       "         Word Vowel_Pattern\n",
       "0           a             B\n",
       "1  aalloillen         BBBMM\n",
       "2   aalloilta         BBBMB\n",
       "3      aallon           BBB\n",
       "4    aallosta          BBBB"
      ]
     },
     "execution_count": 6,
     "metadata": {},
     "output_type": "execute_result"
    }
   ],
   "source": [
    "finvowel = pd.Series(kalevala_unique, name = 'Word')\n",
    "FinVowel = pd.DataFrame(finvowel)\n",
    "\n",
    "FinVowel['Vowel_Pattern'] = FinVowel['Word'].apply(find_vowel_pattern)\n",
    "FinVowel.head()"
   ]
  },
  {
   "cell_type": "markdown",
   "metadata": {},
   "source": [
    "I proceeded to store words that contained both front and back vowels in a data frame appropriately titled 'catdog'."
   ]
  },
  {
   "cell_type": "code",
   "execution_count": 7,
   "metadata": {},
   "outputs": [
    {
     "data": {
      "text/html": [
       "<div>\n",
       "<style>\n",
       "    .dataframe thead tr:only-child th {\n",
       "        text-align: right;\n",
       "    }\n",
       "\n",
       "    .dataframe thead th {\n",
       "        text-align: left;\n",
       "    }\n",
       "\n",
       "    .dataframe tbody tr th {\n",
       "        vertical-align: top;\n",
       "    }\n",
       "</style>\n",
       "<table border=\"1\" class=\"dataframe\">\n",
       "  <thead>\n",
       "    <tr style=\"text-align: right;\">\n",
       "      <th></th>\n",
       "      <th>Word</th>\n",
       "      <th>Vowel_Pattern</th>\n",
       "    </tr>\n",
       "  </thead>\n",
       "  <tbody>\n",
       "    <tr>\n",
       "      <th>53</th>\n",
       "      <td>alakäsille</td>\n",
       "      <td>BBFMM</td>\n",
       "    </tr>\n",
       "    <tr>\n",
       "      <th>142</th>\n",
       "      <td>emäpuu</td>\n",
       "      <td>MFBB</td>\n",
       "    </tr>\n",
       "    <tr>\n",
       "      <th>143</th>\n",
       "      <td>emäpuun</td>\n",
       "      <td>MFBB</td>\n",
       "    </tr>\n",
       "    <tr>\n",
       "      <th>436</th>\n",
       "      <td>kalaneväisen</td>\n",
       "      <td>BBMFMM</td>\n",
       "    </tr>\n",
       "    <tr>\n",
       "      <th>687</th>\n",
       "      <td>kultapyörä</td>\n",
       "      <td>BBFFF</td>\n",
       "    </tr>\n",
       "    <tr>\n",
       "      <th>688</th>\n",
       "      <td>kultapyörällä</td>\n",
       "      <td>BBFFFF</td>\n",
       "    </tr>\n",
       "    <tr>\n",
       "      <th>757</th>\n",
       "      <td>kymmenkunnan</td>\n",
       "      <td>FMBB</td>\n",
       "    </tr>\n",
       "    <tr>\n",
       "      <th>786</th>\n",
       "      <td>käsivarren</td>\n",
       "      <td>FMBM</td>\n",
       "    </tr>\n",
       "    <tr>\n",
       "      <th>839</th>\n",
       "      <td>lakkipäien</td>\n",
       "      <td>BMFMM</td>\n",
       "    </tr>\n",
       "    <tr>\n",
       "      <th>840</th>\n",
       "      <td>lakkipäitä</td>\n",
       "      <td>BMFMF</td>\n",
       "    </tr>\n",
       "    <tr>\n",
       "      <th>990</th>\n",
       "      <td>länsituuli</td>\n",
       "      <td>FMBBM</td>\n",
       "    </tr>\n",
       "    <tr>\n",
       "      <th>1250</th>\n",
       "      <td>pakkopäivissäni</td>\n",
       "      <td>BBFMMFM</td>\n",
       "    </tr>\n",
       "    <tr>\n",
       "      <th>1298</th>\n",
       "      <td>peräpuikon</td>\n",
       "      <td>MFBMB</td>\n",
       "    </tr>\n",
       "    <tr>\n",
       "      <th>1537</th>\n",
       "      <td>saloviertä</td>\n",
       "      <td>BBMMF</td>\n",
       "    </tr>\n",
       "    <tr>\n",
       "      <th>1966</th>\n",
       "      <td>ututyttö</td>\n",
       "      <td>BBFF</td>\n",
       "    </tr>\n",
       "    <tr>\n",
       "      <th>2160</th>\n",
       "      <td>visaperähän</td>\n",
       "      <td>MBMFF</td>\n",
       "    </tr>\n",
       "    <tr>\n",
       "      <th>2161</th>\n",
       "      <td>visaperästä</td>\n",
       "      <td>MBMFF</td>\n",
       "    </tr>\n",
       "    <tr>\n",
       "      <th>2185</th>\n",
       "      <td>vähävarainen</td>\n",
       "      <td>FFBBMM</td>\n",
       "    </tr>\n",
       "    <tr>\n",
       "      <th>2209</th>\n",
       "      <td>ylijumala</td>\n",
       "      <td>FMBBB</td>\n",
       "    </tr>\n",
       "  </tbody>\n",
       "</table>\n",
       "</div>"
      ],
      "text/plain": [
       "                 Word Vowel_Pattern\n",
       "53         alakäsille         BBFMM\n",
       "142            emäpuu          MFBB\n",
       "143           emäpuun          MFBB\n",
       "436      kalaneväisen        BBMFMM\n",
       "687        kultapyörä         BBFFF\n",
       "688     kultapyörällä        BBFFFF\n",
       "757      kymmenkunnan          FMBB\n",
       "786        käsivarren          FMBM\n",
       "839        lakkipäien         BMFMM\n",
       "840        lakkipäitä         BMFMF\n",
       "990        länsituuli         FMBBM\n",
       "1250  pakkopäivissäni       BBFMMFM\n",
       "1298       peräpuikon         MFBMB\n",
       "1537       saloviertä         BBMMF\n",
       "1966         ututyttö          BBFF\n",
       "2160      visaperähän         MBMFF\n",
       "2161      visaperästä         MBMFF\n",
       "2185     vähävarainen        FFBBMM\n",
       "2209        ylijumala         FMBBB"
      ]
     },
     "execution_count": 7,
     "metadata": {},
     "output_type": "execute_result"
    }
   ],
   "source": [
    "catdog = FinVowel[(FinVowel['Vowel_Pattern'].str.contains('B') == True) & \\\n",
    "                  (FinVowel['Vowel_Pattern'].str.contains('F') == True)]\n",
    "\n",
    "catdog"
   ]
  },
  {
   "cell_type": "markdown",
   "metadata": {},
   "source": [
    "I then manipulated the data to obtain a data frame (Kalevala) containing the individual vowel patterns, number of times each pattern was observed, and the length of the vowel pattern."
   ]
  },
  {
   "cell_type": "code",
   "execution_count": 8,
   "metadata": {},
   "outputs": [
    {
     "data": {
      "text/html": [
       "<div>\n",
       "<style>\n",
       "    .dataframe thead tr:only-child th {\n",
       "        text-align: right;\n",
       "    }\n",
       "\n",
       "    .dataframe thead th {\n",
       "        text-align: left;\n",
       "    }\n",
       "\n",
       "    .dataframe tbody tr th {\n",
       "        vertical-align: top;\n",
       "    }\n",
       "</style>\n",
       "<table border=\"1\" class=\"dataframe\">\n",
       "  <thead>\n",
       "    <tr style=\"text-align: right;\">\n",
       "      <th></th>\n",
       "      <th>Vowel_Pattern</th>\n",
       "      <th>No_of_Observations</th>\n",
       "      <th>Pattern_Length</th>\n",
       "    </tr>\n",
       "  </thead>\n",
       "  <tbody>\n",
       "    <tr>\n",
       "      <th>0</th>\n",
       "      <td>B</td>\n",
       "      <td>19</td>\n",
       "      <td>1</td>\n",
       "    </tr>\n",
       "    <tr>\n",
       "      <th>1</th>\n",
       "      <td>BB</td>\n",
       "      <td>153</td>\n",
       "      <td>2</td>\n",
       "    </tr>\n",
       "    <tr>\n",
       "      <th>2</th>\n",
       "      <td>BBB</td>\n",
       "      <td>145</td>\n",
       "      <td>3</td>\n",
       "    </tr>\n",
       "    <tr>\n",
       "      <th>3</th>\n",
       "      <td>BBBB</td>\n",
       "      <td>63</td>\n",
       "      <td>4</td>\n",
       "    </tr>\n",
       "    <tr>\n",
       "      <th>4</th>\n",
       "      <td>BBBBB</td>\n",
       "      <td>24</td>\n",
       "      <td>5</td>\n",
       "    </tr>\n",
       "  </tbody>\n",
       "</table>\n",
       "</div>"
      ],
      "text/plain": [
       "  Vowel_Pattern  No_of_Observations  Pattern_Length\n",
       "0             B                  19               1\n",
       "1            BB                 153               2\n",
       "2           BBB                 145               3\n",
       "3          BBBB                  63               4\n",
       "4         BBBBB                  24               5"
      ]
     },
     "execution_count": 8,
     "metadata": {},
     "output_type": "execute_result"
    }
   ],
   "source": [
    "#I first grouped the data according to Vowel_Pattern\n",
    "grouped = FinVowel.groupby('Vowel_Pattern')\n",
    "\n",
    "#I then created 3 separate lists to contain the information that I wanted (vowel pattern; no of times observed;\n",
    "#and the length of the vowel pattern)\n",
    "VowelPattern = []\n",
    "Appearances = []\n",
    "Length = []\n",
    "for name, group in grouped:\n",
    "    VowelPattern += [name]\n",
    "    Appearances += [len(group)]\n",
    "    Length += [len(name)]\n",
    "\n",
    "#And then I combined the 3 separate lists into a data frame\n",
    "Kalevala = pd.Series(VowelPattern, name = 'Vowel_Pattern')\n",
    "Kalevala = pd.DataFrame(Kalevala)\n",
    "Kalevala['No_of_Observations'] = Appearances\n",
    "Kalevala['Pattern_Length'] = Length\n",
    "Kalevala.head()"
   ]
  },
  {
   "cell_type": "markdown",
   "metadata": {},
   "source": [
    "To generate a column containing the type of word that is associated with each vowel pattern, I wrote a function that would classify each word based on its vowel pattern and applied it to the two data frames (Kalevala and catdog) created. "
   ]
  },
  {
   "cell_type": "code",
   "execution_count": 9,
   "metadata": {
    "collapsed": true
   },
   "outputs": [],
   "source": [
    "def description(word):\n",
    "#To qualify as Aberrant, both B and F must be present\n",
    "    if (('B' in word) == True) and (('F' in word) == True):\n",
    "        return 'A'\n",
    "#To qualify as Mixed, two conditions must be satisfied.\n",
    "#First, 'M' must be present. Secondly, either one of B or F must be present, but not both.\n",
    "#So, ('F' in word)+('B' in word) == 1\n",
    "    elif (('M' in word) == True) and (('F' in word)+('B' in word) == 1):\n",
    "        return 'M'\n",
    "#All other cases must therefore be pure. This also accounts for the case where there are no vowels in the word.\n",
    "    else:\n",
    "        return 'P'\n",
    "    \n",
    "Kalevala['Description'] = Kalevala['Vowel_Pattern'].apply(description)\n",
    "catdog['Description'] = catdog['Vowel_Pattern'].apply(description)"
   ]
  },
  {
   "cell_type": "code",
   "execution_count": 10,
   "metadata": {},
   "outputs": [
    {
     "data": {
      "text/html": [
       "<div>\n",
       "<style>\n",
       "    .dataframe thead tr:only-child th {\n",
       "        text-align: right;\n",
       "    }\n",
       "\n",
       "    .dataframe thead th {\n",
       "        text-align: left;\n",
       "    }\n",
       "\n",
       "    .dataframe tbody tr th {\n",
       "        vertical-align: top;\n",
       "    }\n",
       "</style>\n",
       "<table border=\"1\" class=\"dataframe\">\n",
       "  <thead>\n",
       "    <tr style=\"text-align: right;\">\n",
       "      <th></th>\n",
       "      <th>Vowel_Pattern</th>\n",
       "      <th>No_of_Observations</th>\n",
       "      <th>Pattern_Length</th>\n",
       "      <th>Description</th>\n",
       "    </tr>\n",
       "  </thead>\n",
       "  <tbody>\n",
       "    <tr>\n",
       "      <th>0</th>\n",
       "      <td>B</td>\n",
       "      <td>19</td>\n",
       "      <td>1</td>\n",
       "      <td>P</td>\n",
       "    </tr>\n",
       "    <tr>\n",
       "      <th>1</th>\n",
       "      <td>BB</td>\n",
       "      <td>153</td>\n",
       "      <td>2</td>\n",
       "      <td>P</td>\n",
       "    </tr>\n",
       "    <tr>\n",
       "      <th>2</th>\n",
       "      <td>BBB</td>\n",
       "      <td>145</td>\n",
       "      <td>3</td>\n",
       "      <td>P</td>\n",
       "    </tr>\n",
       "    <tr>\n",
       "      <th>3</th>\n",
       "      <td>BBBB</td>\n",
       "      <td>63</td>\n",
       "      <td>4</td>\n",
       "      <td>P</td>\n",
       "    </tr>\n",
       "    <tr>\n",
       "      <th>4</th>\n",
       "      <td>BBBBB</td>\n",
       "      <td>24</td>\n",
       "      <td>5</td>\n",
       "      <td>P</td>\n",
       "    </tr>\n",
       "    <tr>\n",
       "      <th>5</th>\n",
       "      <td>BBBBBB</td>\n",
       "      <td>4</td>\n",
       "      <td>6</td>\n",
       "      <td>P</td>\n",
       "    </tr>\n",
       "    <tr>\n",
       "      <th>6</th>\n",
       "      <td>BBBBM</td>\n",
       "      <td>20</td>\n",
       "      <td>5</td>\n",
       "      <td>M</td>\n",
       "    </tr>\n",
       "    <tr>\n",
       "      <th>7</th>\n",
       "      <td>BBBBMM</td>\n",
       "      <td>3</td>\n",
       "      <td>6</td>\n",
       "      <td>M</td>\n",
       "    </tr>\n",
       "    <tr>\n",
       "      <th>8</th>\n",
       "      <td>BBBBMMM</td>\n",
       "      <td>1</td>\n",
       "      <td>7</td>\n",
       "      <td>M</td>\n",
       "    </tr>\n",
       "    <tr>\n",
       "      <th>9</th>\n",
       "      <td>BBBM</td>\n",
       "      <td>43</td>\n",
       "      <td>4</td>\n",
       "      <td>M</td>\n",
       "    </tr>\n",
       "  </tbody>\n",
       "</table>\n",
       "</div>"
      ],
      "text/plain": [
       "  Vowel_Pattern  No_of_Observations  Pattern_Length Description\n",
       "0             B                  19               1           P\n",
       "1            BB                 153               2           P\n",
       "2           BBB                 145               3           P\n",
       "3          BBBB                  63               4           P\n",
       "4         BBBBB                  24               5           P\n",
       "5        BBBBBB                   4               6           P\n",
       "6         BBBBM                  20               5           M\n",
       "7        BBBBMM                   3               6           M\n",
       "8       BBBBMMM                   1               7           M\n",
       "9          BBBM                  43               4           M"
      ]
     },
     "execution_count": 10,
     "metadata": {},
     "output_type": "execute_result"
    }
   ],
   "source": [
    "#Kalevala is the data frame containing the vowel patterns, no. of observations of each pattern, the pattern length, and\n",
    "#the description\n",
    "Kalevala.head(10)"
   ]
  },
  {
   "cell_type": "markdown",
   "metadata": {},
   "source": [
    "# 1) Determine the most common vowel pattern and how often it occurs."
   ]
  },
  {
   "cell_type": "code",
   "execution_count": 11,
   "metadata": {},
   "outputs": [
    {
     "data": {
      "text/html": [
       "<div>\n",
       "<style>\n",
       "    .dataframe thead tr:only-child th {\n",
       "        text-align: right;\n",
       "    }\n",
       "\n",
       "    .dataframe thead th {\n",
       "        text-align: left;\n",
       "    }\n",
       "\n",
       "    .dataframe tbody tr th {\n",
       "        vertical-align: top;\n",
       "    }\n",
       "</style>\n",
       "<table border=\"1\" class=\"dataframe\">\n",
       "  <thead>\n",
       "    <tr style=\"text-align: right;\">\n",
       "      <th></th>\n",
       "      <th>Vowel_Pattern</th>\n",
       "      <th>No_of_Observations</th>\n",
       "      <th>Pattern_Length</th>\n",
       "      <th>Description</th>\n",
       "    </tr>\n",
       "  </thead>\n",
       "  <tbody>\n",
       "    <tr>\n",
       "      <th>1</th>\n",
       "      <td>BB</td>\n",
       "      <td>153</td>\n",
       "      <td>2</td>\n",
       "      <td>P</td>\n",
       "    </tr>\n",
       "  </tbody>\n",
       "</table>\n",
       "</div>"
      ],
      "text/plain": [
       "  Vowel_Pattern  No_of_Observations  Pattern_Length Description\n",
       "1            BB                 153               2           P"
      ]
     },
     "execution_count": 11,
     "metadata": {},
     "output_type": "execute_result"
    }
   ],
   "source": [
    "Kalevala[Kalevala['No_of_Observations'] == np.max(Kalevala['No_of_Observations'])]"
   ]
  },
  {
   "cell_type": "markdown",
   "metadata": {},
   "source": [
    "In this particular excerpt of the Kalevala, BB (two back vowels) is the most common vowel pattern observed. It occurs in 153 unique words."
   ]
  },
  {
   "cell_type": "markdown",
   "metadata": {},
   "source": [
    "# 2) Investigate whether the Finnish language exhibits vowel harmony."
   ]
  },
  {
   "cell_type": "markdown",
   "metadata": {},
   "source": [
    "The following cross table shows the distribution of the length of each type of vowel pattern."
   ]
  },
  {
   "cell_type": "code",
   "execution_count": 12,
   "metadata": {},
   "outputs": [
    {
     "data": {
      "text/html": [
       "<div>\n",
       "<style>\n",
       "    .dataframe thead tr:only-child th {\n",
       "        text-align: right;\n",
       "    }\n",
       "\n",
       "    .dataframe thead th {\n",
       "        text-align: left;\n",
       "    }\n",
       "\n",
       "    .dataframe tbody tr th {\n",
       "        vertical-align: top;\n",
       "    }\n",
       "</style>\n",
       "<table border=\"1\" class=\"dataframe\">\n",
       "  <thead>\n",
       "    <tr style=\"text-align: right;\">\n",
       "      <th>Pattern_Length</th>\n",
       "      <th>1</th>\n",
       "      <th>2</th>\n",
       "      <th>3</th>\n",
       "      <th>4</th>\n",
       "      <th>5</th>\n",
       "      <th>6</th>\n",
       "      <th>7</th>\n",
       "      <th>8</th>\n",
       "    </tr>\n",
       "    <tr>\n",
       "      <th>Description</th>\n",
       "      <th></th>\n",
       "      <th></th>\n",
       "      <th></th>\n",
       "      <th></th>\n",
       "      <th></th>\n",
       "      <th></th>\n",
       "      <th></th>\n",
       "      <th></th>\n",
       "    </tr>\n",
       "  </thead>\n",
       "  <tbody>\n",
       "    <tr>\n",
       "      <th>A</th>\n",
       "      <td>NaN</td>\n",
       "      <td>NaN</td>\n",
       "      <td>NaN</td>\n",
       "      <td>5.0</td>\n",
       "      <td>10.0</td>\n",
       "      <td>3.0</td>\n",
       "      <td>1.0</td>\n",
       "      <td>NaN</td>\n",
       "    </tr>\n",
       "    <tr>\n",
       "      <th>M</th>\n",
       "      <td>NaN</td>\n",
       "      <td>193.0</td>\n",
       "      <td>557.0</td>\n",
       "      <td>413.0</td>\n",
       "      <td>357.0</td>\n",
       "      <td>54.0</td>\n",
       "      <td>7.0</td>\n",
       "      <td>2.0</td>\n",
       "    </tr>\n",
       "    <tr>\n",
       "      <th>P</th>\n",
       "      <td>36.0</td>\n",
       "      <td>243.0</td>\n",
       "      <td>233.0</td>\n",
       "      <td>79.0</td>\n",
       "      <td>38.0</td>\n",
       "      <td>4.0</td>\n",
       "      <td>NaN</td>\n",
       "      <td>NaN</td>\n",
       "    </tr>\n",
       "  </tbody>\n",
       "</table>\n",
       "</div>"
      ],
      "text/plain": [
       "Pattern_Length     1      2      3      4      5     6    7    8\n",
       "Description                                                     \n",
       "A                NaN    NaN    NaN    5.0   10.0   3.0  1.0  NaN\n",
       "M                NaN  193.0  557.0  413.0  357.0  54.0  7.0  2.0\n",
       "P               36.0  243.0  233.0   79.0   38.0   4.0  NaN  NaN"
      ]
     },
     "execution_count": 12,
     "metadata": {},
     "output_type": "execute_result"
    }
   ],
   "source": [
    "crosstable = pd.crosstab(Kalevala['Description'], Kalevala['Pattern_Length'], values = Kalevala['No_of_Observations'],\\\n",
    "                         aggfunc = np.sum)\n",
    "crosstable"
   ]
  },
  {
   "cell_type": "markdown",
   "metadata": {},
   "source": [
    "This above data is better visualized as a factor plot as shown below:"
   ]
  },
  {
   "cell_type": "code",
   "execution_count": 13,
   "metadata": {},
   "outputs": [
    {
     "data": {
      "text/plain": [
       "<seaborn.axisgrid.FacetGrid at 0x2b8f3b61ee80>"
      ]
     },
     "execution_count": 13,
     "metadata": {},
     "output_type": "execute_result"
    },
    {
     "data": {
      "image/png": "[encoded data removed]",
      "text/plain": [
       "<matplotlib.figure.Figure at 0x2b8f84fd3f98>"
      ]
     },
     "metadata": {},
     "output_type": "display_data"
    }
   ],
   "source": [
    "sns.factorplot(kind = 'bar', col = 'Description', x = 'Pattern_Length', y = 'No_of_Observations', data = Kalevala,\\\n",
    "              estimator = np.sum)"
   ]
  },
  {
   "cell_type": "code",
   "execution_count": 14,
   "metadata": {},
   "outputs": [
    {
     "data": {
      "text/plain": [
       "19"
      ]
     },
     "execution_count": 14,
     "metadata": {},
     "output_type": "execute_result"
    }
   ],
   "source": [
    "#Number of observations for words which are aberrant.\n",
    "np.sum(Kalevala[Kalevala['Description'] == 'A']['No_of_Observations'])"
   ]
  },
  {
   "cell_type": "code",
   "execution_count": 15,
   "metadata": {},
   "outputs": [
    {
     "data": {
      "text/plain": [
       "2235"
      ]
     },
     "execution_count": 15,
     "metadata": {},
     "output_type": "execute_result"
    }
   ],
   "source": [
    "#Total number of observations in the data set.\n",
    "np.sum(Kalevala['No_of_Observations'])"
   ]
  },
  {
   "cell_type": "code",
   "execution_count": 16,
   "metadata": {},
   "outputs": [
    {
     "data": {
      "text/plain": [
       "0.008501118568232663"
      ]
     },
     "execution_count": 16,
     "metadata": {},
     "output_type": "execute_result"
    }
   ],
   "source": [
    "#Percentage of vowel patterns that are aberrant\n",
    "np.sum(Kalevala[Kalevala['Description'] == 'A']['No_of_Observations'])/np.sum(Kalevala['No_of_Observations'])"
   ]
  },
  {
   "cell_type": "markdown",
   "metadata": {},
   "source": [
    "As illustrated by the factor plots, there are very few observation of words that are aberrant compared to words that are either pure or mixed. Also, only 19 out of the 2235 unique words present in the excerpt (0.85%) are aberrant, indicating that overall, Finnish words display vowel harmony (or at least, in this excerpt)."
   ]
  },
  {
   "cell_type": "markdown",
   "metadata": {},
   "source": [
    "# 3) Determine if the aberrant words follow a certain pattern."
   ]
  },
  {
   "cell_type": "markdown",
   "metadata": {},
   "source": [
    "I first made a boxplot to determine the distribution of vowel pattern lengths for each type of vowel pattern."
   ]
  },
  {
   "cell_type": "code",
   "execution_count": 17,
   "metadata": {},
   "outputs": [
    {
     "data": {
      "text/plain": [
       "<matplotlib.axes._subplots.AxesSubplot at 0x2b8f881b47f0>"
      ]
     },
     "execution_count": 17,
     "metadata": {},
     "output_type": "execute_result"
    },
    {
     "data": {
      "image/png": "[encoded data removed]",
      "text/plain": [
       "<matplotlib.figure.Figure at 0x2b8f85019588>"
      ]
     },
     "metadata": {},
     "output_type": "display_data"
    }
   ],
   "source": [
    "#I first created new columns in the FinVowel data frame.\n",
    "FinVowel['Pattern_Length'] = FinVowel['Vowel_Pattern'].apply(len)\n",
    "FinVowel['Description'] = FinVowel['Vowel_Pattern'].apply(description)\n",
    "\n",
    "#I then created the boxplot.\n",
    "sns.boxplot(data = FinVowel, x = 'Description', y = 'Pattern_Length')"
   ]
  },
  {
   "cell_type": "markdown",
   "metadata": {},
   "source": [
    "It appears that words that are 'pure' tend to have a shorter pattern length compared to words that are ‘mixed’ and ‘aberrant’. Although there is too small a sample of ‘aberrant’ type words to draw more robust conclusions, it also appears that words that are ‘aberrant’ tend to be longer than ‘mixed’ words (and thus the longest out of all three types)."
   ]
  },
  {
   "cell_type": "markdown",
   "metadata": {
    "collapsed": true
   },
   "source": [
    "A visual inspection of the vowel pattern of aberrant words demonstrates that once the vowels switch from front to back or from back to front, while they may have middle vowels inserted in between them, the vowel class never switches again."
   ]
  },
  {
   "cell_type": "code",
   "execution_count": 18,
   "metadata": {},
   "outputs": [
    {
     "data": {
      "text/html": [
       "<div>\n",
       "<style>\n",
       "    .dataframe thead tr:only-child th {\n",
       "        text-align: right;\n",
       "    }\n",
       "\n",
       "    .dataframe thead th {\n",
       "        text-align: left;\n",
       "    }\n",
       "\n",
       "    .dataframe tbody tr th {\n",
       "        vertical-align: top;\n",
       "    }\n",
       "</style>\n",
       "<table border=\"1\" class=\"dataframe\">\n",
       "  <thead>\n",
       "    <tr style=\"text-align: right;\">\n",
       "      <th></th>\n",
       "      <th>Word</th>\n",
       "      <th>Vowel_Pattern</th>\n",
       "      <th>Description</th>\n",
       "    </tr>\n",
       "  </thead>\n",
       "  <tbody>\n",
       "    <tr>\n",
       "      <th>53</th>\n",
       "      <td>alakäsille</td>\n",
       "      <td>BBFMM</td>\n",
       "      <td>A</td>\n",
       "    </tr>\n",
       "    <tr>\n",
       "      <th>142</th>\n",
       "      <td>emäpuu</td>\n",
       "      <td>MFBB</td>\n",
       "      <td>A</td>\n",
       "    </tr>\n",
       "    <tr>\n",
       "      <th>143</th>\n",
       "      <td>emäpuun</td>\n",
       "      <td>MFBB</td>\n",
       "      <td>A</td>\n",
       "    </tr>\n",
       "    <tr>\n",
       "      <th>436</th>\n",
       "      <td>kalaneväisen</td>\n",
       "      <td>BBMFMM</td>\n",
       "      <td>A</td>\n",
       "    </tr>\n",
       "    <tr>\n",
       "      <th>687</th>\n",
       "      <td>kultapyörä</td>\n",
       "      <td>BBFFF</td>\n",
       "      <td>A</td>\n",
       "    </tr>\n",
       "    <tr>\n",
       "      <th>688</th>\n",
       "      <td>kultapyörällä</td>\n",
       "      <td>BBFFFF</td>\n",
       "      <td>A</td>\n",
       "    </tr>\n",
       "    <tr>\n",
       "      <th>757</th>\n",
       "      <td>kymmenkunnan</td>\n",
       "      <td>FMBB</td>\n",
       "      <td>A</td>\n",
       "    </tr>\n",
       "    <tr>\n",
       "      <th>786</th>\n",
       "      <td>käsivarren</td>\n",
       "      <td>FMBM</td>\n",
       "      <td>A</td>\n",
       "    </tr>\n",
       "    <tr>\n",
       "      <th>839</th>\n",
       "      <td>lakkipäien</td>\n",
       "      <td>BMFMM</td>\n",
       "      <td>A</td>\n",
       "    </tr>\n",
       "    <tr>\n",
       "      <th>840</th>\n",
       "      <td>lakkipäitä</td>\n",
       "      <td>BMFMF</td>\n",
       "      <td>A</td>\n",
       "    </tr>\n",
       "    <tr>\n",
       "      <th>990</th>\n",
       "      <td>länsituuli</td>\n",
       "      <td>FMBBM</td>\n",
       "      <td>A</td>\n",
       "    </tr>\n",
       "    <tr>\n",
       "      <th>1250</th>\n",
       "      <td>pakkopäivissäni</td>\n",
       "      <td>BBFMMFM</td>\n",
       "      <td>A</td>\n",
       "    </tr>\n",
       "    <tr>\n",
       "      <th>1298</th>\n",
       "      <td>peräpuikon</td>\n",
       "      <td>MFBMB</td>\n",
       "      <td>A</td>\n",
       "    </tr>\n",
       "    <tr>\n",
       "      <th>1537</th>\n",
       "      <td>saloviertä</td>\n",
       "      <td>BBMMF</td>\n",
       "      <td>A</td>\n",
       "    </tr>\n",
       "    <tr>\n",
       "      <th>1966</th>\n",
       "      <td>ututyttö</td>\n",
       "      <td>BBFF</td>\n",
       "      <td>A</td>\n",
       "    </tr>\n",
       "    <tr>\n",
       "      <th>2160</th>\n",
       "      <td>visaperähän</td>\n",
       "      <td>MBMFF</td>\n",
       "      <td>A</td>\n",
       "    </tr>\n",
       "    <tr>\n",
       "      <th>2161</th>\n",
       "      <td>visaperästä</td>\n",
       "      <td>MBMFF</td>\n",
       "      <td>A</td>\n",
       "    </tr>\n",
       "    <tr>\n",
       "      <th>2185</th>\n",
       "      <td>vähävarainen</td>\n",
       "      <td>FFBBMM</td>\n",
       "      <td>A</td>\n",
       "    </tr>\n",
       "    <tr>\n",
       "      <th>2209</th>\n",
       "      <td>ylijumala</td>\n",
       "      <td>FMBBB</td>\n",
       "      <td>A</td>\n",
       "    </tr>\n",
       "  </tbody>\n",
       "</table>\n",
       "</div>"
      ],
      "text/plain": [
       "                 Word Vowel_Pattern Description\n",
       "53         alakäsille         BBFMM           A\n",
       "142            emäpuu          MFBB           A\n",
       "143           emäpuun          MFBB           A\n",
       "436      kalaneväisen        BBMFMM           A\n",
       "687        kultapyörä         BBFFF           A\n",
       "688     kultapyörällä        BBFFFF           A\n",
       "757      kymmenkunnan          FMBB           A\n",
       "786        käsivarren          FMBM           A\n",
       "839        lakkipäien         BMFMM           A\n",
       "840        lakkipäitä         BMFMF           A\n",
       "990        länsituuli         FMBBM           A\n",
       "1250  pakkopäivissäni       BBFMMFM           A\n",
       "1298       peräpuikon         MFBMB           A\n",
       "1537       saloviertä         BBMMF           A\n",
       "1966         ututyttö          BBFF           A\n",
       "2160      visaperähän         MBMFF           A\n",
       "2161      visaperästä         MBMFF           A\n",
       "2185     vähävarainen        FFBBMM           A\n",
       "2209        ylijumala         FMBBB           A"
      ]
     },
     "execution_count": 18,
     "metadata": {},
     "output_type": "execute_result"
    }
   ],
   "source": [
    "catdog"
   ]
  },
  {
   "cell_type": "markdown",
   "metadata": {},
   "source": [
    "This makes sense once we understand how Finnish words are formed. Compound words in Finnish can be considered as separate words. As such, even though compound words may not exhibit vowel harmony, the separate words that make the compound words should exhibit vowel harmony.\n",
    "\n",
    "(Translations may be inaccurate.)\n",
    "\n",
    "In each of these examples, the separate words exhibit vowel harmony.\n",
    "- emä (mother) + puun (tree) = emäpuun (mother tree)\n",
    "- visa (birch) + perähän (towards) = visaperähän (towards the birch)\n",
    "- visa (birch) + perästä (after) = visaperästä (after the birch)\n",
    "- länsi (west) + tuuli (wind) = länsituuli (west wind)\n",
    "- utu (haze/mist) + tyttö (girl) = ututyttö (girl in the mist)\n",
    "- kymmen (decade) + kunan (present) = kymmenkunan (current decade)\n",
    "\n",
    "The same rule violation/pattern can also be observed with prefixes and suffixes:\n",
    "- vähä (prefix: few/very little) + varainen (resources) = vähävarainen (scarce resources)\n",
    "- yli (prefix: senior/chief) + jumala (god) = ylijumala (the supreme god)\n",
    "\n",
    "Sources used to arrive at this conclusion:\n",
    "- https://wikivisually.com/wiki/Vowel_harmony\n",
    "- https://en.wikibooks.org/wiki/Finnish/Grammar-Vowel_harmony\n",
    "- https://en.wiktionary.org/wiki/Wiktionary:Main_Page\n",
    "\n",
    "Special shout out to https://translate.google.com/#fi/en/"
   ]
  }
 ],
 "metadata": {
  "kernelspec": {
   "display_name": "Python 3",
   "language": "python",
   "name": "python3"
  },
  "language_info": {
   "codemirror_mode": {
    "name": "ipython",
    "version": 3
   },
   "file_extension": ".py",
   "mimetype": "text/x-python",
   "name": "python",
   "nbconvert_exporter": "python",
   "pygments_lexer": "ipython3",
   "version": "3.6.3"
  }
 },
 "nbformat": 4,
 "nbformat_minor": 2
}
